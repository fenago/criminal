{
 "cells": [
  {
   "cell_type": "markdown",
   "metadata": {},
   "source": [
    "### Getting started with feature importance and fairness using ML & SHAP\n",
    "\n",
    "\n",
    "* We'll look at feature importance according to ML models. \n",
    "* We can use multiple methods - e.g. permutation importance, shapley, and the  difference in feature importance from different models"
   ]
  },
  {
   "cell_type": "code",
   "execution_count": 1,
   "metadata": {
    "_cell_guid": "b1076dfc-b9ad-4769-8c92-a6c4dae69d19",
    "_uuid": "8f2839f25d086af736a60e9eeb907d3b93b6e0e5"
   },
   "outputs": [
    {
     "name": "stdout",
     "output_type": "stream",
     "text": [
      "/kaggle/input/compass/cox-violent-parsed_filt.csv\n",
      "/kaggle/input/compass/cox-violent-parsed.csv\n",
      "/kaggle/input/compass/compas-scores-raw.csv\n",
      "/kaggle/input/compass/propublicaCompassRecividism_data_fairml.csv/._propublica_data_for_fairml.csv\n",
      "/kaggle/input/compass/propublicaCompassRecividism_data_fairml.csv/propublica_data_for_fairml.csv\n"
     ]
    }
   ],
   "source": [
    "import numpy as np # linear algebra\n",
    "import pandas as pd # data processing, CSV file I/O (e.g. pd.read_csv)\n",
    "\n",
    "import os\n",
    "\n",
    "import shap\n",
    "import gc\n",
    "\n",
    "from lightgbm import LGBMClassifier\n",
    "import lightgbm as lgb\n",
    "from sklearn.metrics import roc_auc_score, roc_curve\n",
    "from sklearn.model_selection import KFold, StratifiedKFold\n",
    "import matplotlib.pyplot as plt\n",
    "import seaborn as sns\n",
    "import warnings\n",
    "from sklearn.model_selection import train_test_split\n",
    "from sklearn.metrics import accuracy_score, roc_auc_score, confusion_matrix\n",
    "from sklearn.feature_selection import VarianceThreshold\n",
    "warnings.simplefilter(action='ignore', category=FutureWarning)\n",
    "\n",
    "\n",
    "for dirname, _, filenames in os.walk('/kaggle/input'):\n",
    "    for filename in filenames:\n",
    "        print(os.path.join(dirname, filename))"
   ]
  },
  {
   "cell_type": "code",
   "execution_count": 2,
   "metadata": {},
   "outputs": [],
   "source": [
    "# import pandas as pd\n",
    "# compas_scores_raw = pd.read_csv(\"../input/compass/compas-scores-raw.csv\")\n",
    "# cox_violent_parsed = pd.read_csv(\"../input/compass/cox-violent-parsed.csv\")\n",
    "# cox_violent_parsed_filt = pd.read_csv(\"../input/compass/cox-violent-parsed_filt.csv\")"
   ]
  },
  {
   "cell_type": "code",
   "execution_count": 3,
   "metadata": {},
   "outputs": [],
   "source": [
    "TARGET_COL = \"Two_yr_Recidivism\""
   ]
  },
  {
   "cell_type": "markdown",
   "metadata": {},
   "source": [
    "## We'll start with the naive fairML subset of the data. Very simple\n",
    "* **Target column**: `Two_yr_Recidivism` = recividism (any) within 2 years\n",
    "* Note that we have fewer variables and features here.\n"
   ]
  },
  {
   "cell_type": "code",
   "execution_count": 4,
   "metadata": {
    "_cell_guid": "79c7e3d0-c299-4dcb-8224-4455121ee9b0",
    "_uuid": "d629ff2d2480ee46fbb7e2d37f6b5fab8052498a"
   },
   "outputs": [
    {
     "name": "stdout",
     "output_type": "stream",
     "text": [
      "(6172, 12)\n"
     ]
    },
    {
     "data": {
      "text/plain": [
       "Index(['Two_yr_Recidivism', 'Number_of_Priors', 'score_factor',\n",
       "       'Age_Above_FourtyFive', 'Age_Below_TwentyFive', 'African_American',\n",
       "       'Asian', 'Hispanic', 'Native_American', 'Other', 'Female',\n",
       "       'Misdemeanor'],\n",
       "      dtype='object')"
      ]
     },
     "metadata": {},
     "output_type": "display_data"
    },
    {
     "data": {
      "text/html": [
       "<div>\n",
       "<style scoped>\n",
       "    .dataframe tbody tr th:only-of-type {\n",
       "        vertical-align: middle;\n",
       "    }\n",
       "\n",
       "    .dataframe tbody tr th {\n",
       "        vertical-align: top;\n",
       "    }\n",
       "\n",
       "    .dataframe thead th {\n",
       "        text-align: right;\n",
       "    }\n",
       "</style>\n",
       "<table border=\"1\" class=\"dataframe\">\n",
       "  <thead>\n",
       "    <tr style=\"text-align: right;\">\n",
       "      <th></th>\n",
       "      <th>Two_yr_Recidivism</th>\n",
       "      <th>Number_of_Priors</th>\n",
       "      <th>score_factor</th>\n",
       "      <th>Age_Above_FourtyFive</th>\n",
       "      <th>Age_Below_TwentyFive</th>\n",
       "      <th>African_American</th>\n",
       "      <th>Asian</th>\n",
       "      <th>Hispanic</th>\n",
       "      <th>Native_American</th>\n",
       "      <th>Other</th>\n",
       "      <th>Female</th>\n",
       "      <th>Misdemeanor</th>\n",
       "    </tr>\n",
       "  </thead>\n",
       "  <tbody>\n",
       "    <tr>\n",
       "      <th>0</th>\n",
       "      <td>0</td>\n",
       "      <td>0</td>\n",
       "      <td>0</td>\n",
       "      <td>1</td>\n",
       "      <td>0</td>\n",
       "      <td>0</td>\n",
       "      <td>0</td>\n",
       "      <td>0</td>\n",
       "      <td>0</td>\n",
       "      <td>1</td>\n",
       "      <td>0</td>\n",
       "      <td>0</td>\n",
       "    </tr>\n",
       "    <tr>\n",
       "      <th>1</th>\n",
       "      <td>1</td>\n",
       "      <td>0</td>\n",
       "      <td>0</td>\n",
       "      <td>0</td>\n",
       "      <td>0</td>\n",
       "      <td>1</td>\n",
       "      <td>0</td>\n",
       "      <td>0</td>\n",
       "      <td>0</td>\n",
       "      <td>0</td>\n",
       "      <td>0</td>\n",
       "      <td>0</td>\n",
       "    </tr>\n",
       "    <tr>\n",
       "      <th>2</th>\n",
       "      <td>1</td>\n",
       "      <td>4</td>\n",
       "      <td>0</td>\n",
       "      <td>0</td>\n",
       "      <td>1</td>\n",
       "      <td>1</td>\n",
       "      <td>0</td>\n",
       "      <td>0</td>\n",
       "      <td>0</td>\n",
       "      <td>0</td>\n",
       "      <td>0</td>\n",
       "      <td>0</td>\n",
       "    </tr>\n",
       "    <tr>\n",
       "      <th>3</th>\n",
       "      <td>0</td>\n",
       "      <td>0</td>\n",
       "      <td>0</td>\n",
       "      <td>0</td>\n",
       "      <td>0</td>\n",
       "      <td>0</td>\n",
       "      <td>0</td>\n",
       "      <td>0</td>\n",
       "      <td>0</td>\n",
       "      <td>1</td>\n",
       "      <td>0</td>\n",
       "      <td>1</td>\n",
       "    </tr>\n",
       "    <tr>\n",
       "      <th>4</th>\n",
       "      <td>1</td>\n",
       "      <td>14</td>\n",
       "      <td>1</td>\n",
       "      <td>0</td>\n",
       "      <td>0</td>\n",
       "      <td>0</td>\n",
       "      <td>0</td>\n",
       "      <td>0</td>\n",
       "      <td>0</td>\n",
       "      <td>0</td>\n",
       "      <td>0</td>\n",
       "      <td>0</td>\n",
       "    </tr>\n",
       "  </tbody>\n",
       "</table>\n",
       "</div>"
      ],
      "text/plain": [
       "   Two_yr_Recidivism  Number_of_Priors  score_factor  Age_Above_FourtyFive  \\\n",
       "0                  0                 0             0                     1   \n",
       "1                  1                 0             0                     0   \n",
       "2                  1                 4             0                     0   \n",
       "3                  0                 0             0                     0   \n",
       "4                  1                14             1                     0   \n",
       "\n",
       "   Age_Below_TwentyFive  African_American  Asian  Hispanic  Native_American  \\\n",
       "0                     0                 0      0         0                0   \n",
       "1                     0                 1      0         0                0   \n",
       "2                     1                 1      0         0                0   \n",
       "3                     0                 0      0         0                0   \n",
       "4                     0                 0      0         0                0   \n",
       "\n",
       "   Other  Female  Misdemeanor  \n",
       "0      1       0            0  \n",
       "1      0       0            0  \n",
       "2      0       0            0  \n",
       "3      1       0            1  \n",
       "4      0       0            0  "
      ]
     },
     "execution_count": 4,
     "metadata": {},
     "output_type": "execute_result"
    }
   ],
   "source": [
    "df = pd.read_csv(\"../input/compass/propublicaCompassRecividism_data_fairml.csv/propublica_data_for_fairml.csv\")\n",
    "\n",
    "print(df.shape)\n",
    "display(df.columns)\n",
    "df.head()"
   ]
  },
  {
   "cell_type": "code",
   "execution_count": 5,
   "metadata": {},
   "outputs": [],
   "source": [
    "data = df.drop([TARGET_COL],axis=1)\n",
    "y = df[TARGET_COL]"
   ]
  },
  {
   "cell_type": "code",
   "execution_count": 6,
   "metadata": {
    "_kg_hide-input": true,
    "_kg_hide-output": true
   },
   "outputs": [],
   "source": [
    "# LightGBM GBDT with KFold or Stratified KFold\n",
    "# Overkill function below based on : https://www.kaggle.com/hmendonca/lightgbm-predictions-explained-with-shap-0-796\n",
    "def kfold_lightgbm(train_df, train_target, test_df, num_folds, stratified=False, debug=False):\n",
    "    print(\"Starting LightGBM. Train shape: {}, test shape: {}\".format(train_df.shape, test_df.shape))\n",
    "    # Cross validation model\n",
    "    if stratified:\n",
    "        folds = StratifiedKFold(n_splits=num_folds, shuffle=True, random_state=47)\n",
    "    else:\n",
    "        folds = KFold(n_splits= num_folds, shuffle=True, random_state=47)\n",
    "    # Create arrays and dataframes to store results\n",
    "    oof_preds = np.zeros(train_df.shape[0])\n",
    "    sub_preds = np.zeros(test_df.shape[0])\n",
    "    feat_importance = pd.DataFrame()\n",
    "    scores = []\n",
    "    models = []\n",
    "    \n",
    "    for n_fold, (train_idx, valid_idx) in enumerate(folds.split(train_df, train_target)):\n",
    "        train_x, train_y = train_df.iloc[train_idx], train_target.iloc[train_idx]\n",
    "        valid_x, valid_y = train_df.iloc[valid_idx], train_target.iloc[valid_idx]\n",
    "\n",
    "        # LightGBM parameters found by Bayesian optimization\n",
    "        clf = LGBMClassifier(\n",
    "#             nthread=4,\n",
    "            #is_unbalance=True,\n",
    "#             n_estimators=10000,\n",
    "            learning_rate=0.04,\n",
    "#             num_leaves=32,\n",
    "#             colsample_bytree=0.9497036,\n",
    "#             subsample=0.8715623,\n",
    "#             max_depth=8,\n",
    "#             reg_alpha=0.04,\n",
    "#             reg_lambda=0.073,\n",
    "#             min_split_gain=0.0222415,\n",
    "#             min_child_weight=40,\n",
    "#             silent=-1,\n",
    "#             verbose=-1,\n",
    "            #scale_pos_weight=11\n",
    "            )\n",
    "\n",
    "        clf.fit(train_x, train_y, eval_set=[(train_x, train_y), (valid_x, valid_y)], \n",
    "            eval_metric= 'auc', verbose= 200, early_stopping_rounds= 50)\n",
    "\n",
    "        oof_preds[valid_idx] = clf.predict_proba(valid_x, num_iteration=clf.best_iteration_)[:, 1]\n",
    "        sub_preds += clf.predict_proba(test_df, num_iteration=clf.best_iteration_)[:, 1] / folds.n_splits\n",
    "\n",
    "        ## feature importance\n",
    "        fold_importance_df = pd.DataFrame()\n",
    "        fold_importance_df[\"feature\"] = test_df.columns.values\n",
    "        fold_importance_df[\"importance\"] = clf.feature_importances_\n",
    "        fold_importance_df[\"shap_values\"] = abs(shap.TreeExplainer(clf).shap_values(valid_x)[:,:test_df.shape[1]]).mean(axis=0).T\n",
    "        fold_importance_df[\"fold\"] = n_fold + 1\n",
    "        feat_importance = pd.concat([feat_importance, fold_importance_df], axis=0)\n",
    "        \n",
    "        scores.append(roc_auc_score(valid_y, oof_preds[valid_idx]))\n",
    "        print('Fold %2d AUC : %.6f' % (n_fold + 1, scores[n_fold]))\n",
    "        models.append(clf)\n",
    "        del clf, train_x, train_y, valid_x, valid_y, fold_importance_df\n",
    "        gc.collect()\n",
    "\n",
    "    score = roc_auc_score(train_target, oof_preds)\n",
    "    print('Full AUC score %.6f' % score)\n",
    "    print('Mean AUC score %.6f' % np.mean(scores))\n",
    "    # Write submission file and plot feature importance\n",
    "    if not debug:\n",
    "        pd.DataFrame(oof_preds).to_csv(\"lgb{:03}_{:.5f}_train_oof.csv\".format(test_df.shape[1], score), index=False)\n",
    "        sub_df = pd.read_csv('../input/sample_submission.csv')\n",
    "        sub_df['TARGET'] = sub_preds\n",
    "        sub_df.to_csv(\"lgb{:03}_{:.5f}.csv\".format(test_df.shape[1], score), index= False)\n",
    "    display_shapley_values(feat_importance)\n",
    "    return feat_importance, models, scores\n",
    "\n",
    "# Display/plot feature importance\n",
    "def display_importances(feat_importance):\n",
    "    best_features = feat_importance[[\"feature\", \"importance\"]].groupby(\"feature\")[\"importance\"].agg(['mean', 'std']) \\\n",
    "                                                              .sort_values(by=\"mean\", ascending=False).head(40).reset_index()\n",
    "    best_features.columns = [\"feature\", \"mean importance\", \"err\"]\n",
    "    plt.figure(figsize=(8, 10))\n",
    "    sns.barplot(x=\"mean importance\", y=\"feature\", xerr=best_features['err'], data=best_features)\n",
    "    plt.title('LightGBM Features (avg over folds)')\n",
    "    plt.tight_layout()\n",
    "    plt.show()\n",
    "\n",
    "# Display/plot shapley values\n",
    "def display_shapley_values(feat_importance):\n",
    "    best_features = feat_importance[[\"feature\", \"shap_values\"]].groupby(\"feature\")[\"shap_values\"].agg(['mean', 'std']) \\\n",
    "                                                               .sort_values(by=\"mean\", ascending=False).head(40).reset_index()\n",
    "    best_features.columns = [\"feature\", \"mean shapley values\", \"err\"]\n",
    "    plt.figure(figsize=(8, 10))\n",
    "    sns.barplot(x=\"mean shapley values\", y=\"feature\", xerr=best_features['err'], data=best_features)\n",
    "    plt.title('LightGBM shapley values (avg over folds)')\n",
    "    plt.tight_layout()\n",
    "    plt.show()"
   ]
  },
  {
   "cell_type": "code",
   "execution_count": 7,
   "metadata": {},
   "outputs": [],
   "source": [
    "# # train_df = df[df['TARGET'].notnull()][feats]\n",
    "# # train_target = df[df['TARGET'].notnull()]['TARGET']\n",
    "# # test_df = df[df['TARGET'].isnull()][feats]\n",
    "\n",
    "\n",
    "# %%time\n",
    "# feat_importance, models, scores = kfold_lightgbm(train_df, train_target, test_df, num_folds=5, stratified=False, debug=debug)"
   ]
  },
  {
   "cell_type": "code",
   "execution_count": 8,
   "metadata": {},
   "outputs": [],
   "source": [
    "#Create train and validation set\n",
    "train_x, valid_x, train_y, valid_y = train_test_split(data, y, test_size=0.25, shuffle=True, stratify=y, random_state=42)\n",
    "\n",
    "## ----------Dataset for  LightGBM Model  -----------------------\n",
    "train_data=lgb.Dataset(train_x,label=train_y)\n",
    "valid_data=lgb.Dataset(valid_x,label=valid_y)"
   ]
  },
  {
   "cell_type": "code",
   "execution_count": 9,
   "metadata": {},
   "outputs": [],
   "source": [
    "params = {'metric' : 'auc',\n",
    "          'boosting_type' : 'gbdt',\n",
    "          'colsample_bytree' : 0.92,\n",
    "#           'max_depth' : -1,\n",
    "#           'n_estimators' : 200,\n",
    "          'min_child_samples': 4, \n",
    "#           'min_child_weight': 0.1,\n",
    "          'subsample': 0.85,\n",
    "#           'verbose' : -1,\n",
    "          'num_threads' : 4\n",
    "}"
   ]
  },
  {
   "cell_type": "code",
   "execution_count": 10,
   "metadata": {
    "_cell_guid": "",
    "_uuid": ""
   },
   "outputs": [
    {
     "name": "stdout",
     "output_type": "stream",
     "text": [
      "Training until validation scores don't improve for 15 rounds\n",
      "Early stopping, best iteration is:\n",
      "[6]\tvalid_0's auc: 0.73577\n"
     ]
    }
   ],
   "source": [
    "lgbm = lgb.train(params,\n",
    "                 train_data,\n",
    "#                  2500,\n",
    "                 valid_sets=valid_data,\n",
    "                 early_stopping_rounds= 15,\n",
    "                 verbose_eval= 30\n",
    "                 )"
   ]
  },
  {
   "cell_type": "code",
   "execution_count": 11,
   "metadata": {},
   "outputs": [
    {
     "name": "stdout",
     "output_type": "stream",
     "text": [
      "Overall AUC on validation (not test!): 0.736\n"
     ]
    }
   ],
   "source": [
    "y_pred = lgbm.predict(valid_x)\n",
    "score = roc_auc_score(valid_y, y_pred)\n",
    "print(\"Overall AUC on validation (not test!): {:.3f}\" .format(score))"
   ]
  },
  {
   "cell_type": "code",
   "execution_count": 12,
   "metadata": {},
   "outputs": [
    {
     "name": "stderr",
     "output_type": "stream",
     "text": [
      "Setting feature_perturbation = \"tree_path_dependent\" because no background data was given.\n"
     ]
    },
    {
     "name": "stdout",
     "output_type": "stream",
     "text": [
      "CPU times: user 458 ms, sys: 18.4 ms, total: 476 ms\n",
      "Wall time: 330 ms\n"
     ]
    },
    {
     "name": "stderr",
     "output_type": "stream",
     "text": [
      "LightGBM binary classifier with TreeExplainer shap values output has changed to a list of ndarray\n"
     ]
    }
   ],
   "source": [
    "import shap\n",
    "lgbm.params['objective'] = 'binary' ## workaround\n",
    "%time shap_values = shap.TreeExplainer(lgbm).shap_values(data)"
   ]
  },
  {
   "cell_type": "code",
   "execution_count": 13,
   "metadata": {},
   "outputs": [
    {
     "data": {
      "image/png": "[encoded data removed]",
      "text/plain": [
       "<Figure size 576x424.8 with 1 Axes>"
      ]
     },
     "metadata": {
      "needs_background": "light"
     },
     "output_type": "display_data"
    }
   ],
   "source": [
    "shap.summary_plot(shap_values, data)\n",
    "# shap values over all the data"
   ]
  },
  {
   "cell_type": "markdown",
   "metadata": {},
   "source": [
    "* We see that shap gives the most importance to the model score. Followed by # priors and age, then gender. Race has the wekest effect, mainly if the individual is African american. \n",
    "\n",
    "\n",
    "* Let's look at some Partial dependency plots over the validation data: (Plot a feature vs another variable. e.g. target =1 ). "
   ]
  },
  {
   "cell_type": "code",
   "execution_count": 14,
   "metadata": {},
   "outputs": [
    {
     "name": "stdout",
     "output_type": "stream",
     "text": [
      "CPU times: user 231 ms, sys: 63.5 ms, total: 294 ms\n",
      "Wall time: 78.6 ms\n"
     ]
    }
   ],
   "source": [
    "%time shap_values = shap.TreeExplainer(lgbm).shap_values(valid_x)"
   ]
  },
  {
   "cell_type": "code",
   "execution_count": 15,
   "metadata": {},
   "outputs": [
    {
     "data": {
      "image/png": "[encoded data removed]",
      "text/plain": [
       "<Figure size 540x360 with 2 Axes>"
      ]
     },
     "metadata": {
      "needs_background": "light"
     },
     "output_type": "display_data"
    }
   ],
   "source": [
    "shap.dependence_plot(\"African_American\", shap_values[1], valid_x)\n",
    "# plot over the validation data"
   ]
  },
  {
   "cell_type": "code",
   "execution_count": 16,
   "metadata": {},
   "outputs": [
    {
     "data": {
      "image/png": "[encoded data removed]",
      "text/plain": [
       "<Figure size 540x360 with 2 Axes>"
      ]
     },
     "metadata": {
      "needs_background": "light"
     },
     "output_type": "display_data"
    }
   ],
   "source": [
    "shap.dependence_plot(\"score_factor\", shap_values[1], valid_x)\n",
    "## we see that the cutoff misses quite a few \"outliers\" at the 0.5 cutoff. "
   ]
  },
  {
   "cell_type": "code",
   "execution_count": 17,
   "metadata": {},
   "outputs": [
    {
     "data": {
      "image/png": "[encoded data removed]",
      "text/plain": [
       "<Figure size 540x360 with 2 Axes>"
      ]
     },
     "metadata": {
      "needs_background": "light"
     },
     "output_type": "display_data"
    }
   ],
   "source": [
    "shap.dependence_plot(\"Number_of_Priors\", shap_values[1], valid_x)"
   ]
  },
  {
   "cell_type": "markdown",
   "metadata": {},
   "source": [
    "## Next steps:\n",
    "* Try different models\n",
    "* try different feature importance metrics - e.g. perturbation or naive model importance\n",
    "* Try the full compass dataset and variables , and different targets (e.g. violent recividism vs any recividism).\n",
    "* Probe the racial bias. (e.g. FP/TP and the age+gender+priors as counfounders)"
   ]
  },
  {
   "cell_type": "code",
   "execution_count": null,
   "metadata": {},
   "outputs": [],
   "source": []
  }
 ],
 "metadata": {
  "kernelspec": {
   "display_name": "Python 3",
   "language": "python",
   "name": "python3"
  },
  "language_info": {
   "codemirror_mode": {
    "name": "ipython",
    "version": 3
   },
   "file_extension": ".py",
   "mimetype": "text/x-python",
   "name": "python",
   "nbconvert_exporter": "python",
   "pygments_lexer": "ipython3",
   "version": "3.6.6"
  }
 },
 "nbformat": 4,
 "nbformat_minor": 1
}
